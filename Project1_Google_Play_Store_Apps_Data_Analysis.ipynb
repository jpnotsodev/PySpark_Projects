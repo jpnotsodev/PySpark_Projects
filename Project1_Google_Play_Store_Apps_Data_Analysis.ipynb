{
 "cells": [
  {
   "cell_type": "markdown",
   "id": "3f63ecf4",
   "metadata": {},
   "source": [
    "## Google Play Store Apps Data Analysis"
   ]
  },
  {
   "cell_type": "markdown",
   "id": "bade6f97",
   "metadata": {},
   "source": [
    "This sdf"
   ]
  },
  {
   "cell_type": "markdown",
   "id": "8228efd8",
   "metadata": {},
   "source": [
    "### Setup your spark session"
   ]
  },
  {
   "cell_type": "code",
   "execution_count": 151,
   "id": "9e75cf5c",
   "metadata": {},
   "outputs": [],
   "source": [
    "# Import SparkSession from the pyspark library\n",
    "from pyspark.sql import SparkSession\n",
    "\n",
    "# This will initialize our spark session\n",
    "# which is the main entry point for our\n",
    "# spark application\n",
    "\n",
    "# The appName() method specifies the name of our application\n",
    "# The getOrCreate() method will try to get\n",
    "# an existing session, and if there is no existing session,\n",
    "# creates a new one\n",
    "spark = SparkSession.builder \\\n",
    "    .appName('GooglePlayStoreAppsAnalysis') \\\n",
    "    .getOrCreate()"
   ]
  },
  {
   "cell_type": "markdown",
   "id": "960da186",
   "metadata": {},
   "source": [
    "### Load the dataset\n",
    "\n",
    "The following lines of code will do the following:\n",
    "    \n",
    "- Creates a variable named **path** and assign the location of file to be loaded\n",
    "- Creates a variable named **options** and assign the option(s) to be used when reading the file\n",
    "- Creates a **DataFrame**"
   ]
  },
  {
   "cell_type": "code",
   "execution_count": 278,
   "id": "3225dce7",
   "metadata": {},
   "outputs": [],
   "source": [
    "# Specifies the location of the file\n",
    "# we are goint to read\n",
    "path = 'data/googleplaystore.csv'\n",
    "\n",
    "# Specifies the input options to be applied\n",
    "# when reading the file\n",
    "options = {\n",
    "    'delimeter': ',',\n",
    "    'header': True\n",
    "}\n",
    "\n",
    "# Creates a dataframe\n",
    "df = spark.read \\\n",
    "    .options(**options) \\\n",
    "    .format('csv') \\\n",
    "    .load(path)"
   ]
  },
  {
   "cell_type": "markdown",
   "id": "2545f87f",
   "metadata": {},
   "source": [
    "## View the data\n",
    "\n",
    "***Tip**: You can limit the number of rows returned by the show() method by specifying (e.g. df.show(10))*"
   ]
  },
  {
   "cell_type": "code",
   "execution_count": 279,
   "id": "642b773e",
   "metadata": {},
   "outputs": [
    {
     "name": "stdout",
     "output_type": "stream",
     "text": [
      "+--------------------+--------------+------+-------+----+-----------+----+-----+--------------+--------------------+------------------+------------------+------------+\n",
      "|                 App|      Category|Rating|Reviews|Size|   Installs|Type|Price|Content Rating|              Genres|      Last Updated|       Current Ver| Android Ver|\n",
      "+--------------------+--------------+------+-------+----+-----------+----+-----+--------------+--------------------+------------------+------------------+------------+\n",
      "|Photo Editor & Ca...|ART_AND_DESIGN|   4.1|    159| 19M|    10,000+|Free|    0|      Everyone|        Art & Design|   January 7, 2018|             1.0.0|4.0.3 and up|\n",
      "| Coloring book moana|ART_AND_DESIGN|   3.9|    967| 14M|   500,000+|Free|    0|      Everyone|Art & Design;Pret...|  January 15, 2018|             2.0.0|4.0.3 and up|\n",
      "|U Launcher Lite –...|ART_AND_DESIGN|   4.7|  87510|8.7M| 5,000,000+|Free|    0|      Everyone|        Art & Design|    August 1, 2018|             1.2.4|4.0.3 and up|\n",
      "|Sketch - Draw & P...|ART_AND_DESIGN|   4.5| 215644| 25M|50,000,000+|Free|    0|          Teen|        Art & Design|      June 8, 2018|Varies with device|  4.2 and up|\n",
      "|Pixel Draw - Numb...|ART_AND_DESIGN|   4.3|    967|2.8M|   100,000+|Free|    0|      Everyone|Art & Design;Crea...|     June 20, 2018|               1.1|  4.4 and up|\n",
      "|Paper flowers ins...|ART_AND_DESIGN|   4.4|    167|5.6M|    50,000+|Free|    0|      Everyone|        Art & Design|    March 26, 2017|               1.0|  2.3 and up|\n",
      "|Smoke Effect Phot...|ART_AND_DESIGN|   3.8|    178| 19M|    50,000+|Free|    0|      Everyone|        Art & Design|    April 26, 2018|               1.1|4.0.3 and up|\n",
      "|    Infinite Painter|ART_AND_DESIGN|   4.1|  36815| 29M| 1,000,000+|Free|    0|      Everyone|        Art & Design|     June 14, 2018|          6.1.61.1|  4.2 and up|\n",
      "|Garden Coloring Book|ART_AND_DESIGN|   4.4|  13791| 33M| 1,000,000+|Free|    0|      Everyone|        Art & Design|September 20, 2017|             2.9.2|  3.0 and up|\n",
      "|Kids Paint Free -...|ART_AND_DESIGN|   4.7|    121|3.1M|    10,000+|Free|    0|      Everyone|Art & Design;Crea...|      July 3, 2018|               2.8|4.0.3 and up|\n",
      "|Text on Photo - F...|ART_AND_DESIGN|   4.4|  13880| 28M| 1,000,000+|Free|    0|      Everyone|        Art & Design|  October 27, 2017|             1.0.4|  4.1 and up|\n",
      "|Name Art Photo Ed...|ART_AND_DESIGN|   4.4|   8788| 12M| 1,000,000+|Free|    0|      Everyone|        Art & Design|     July 31, 2018|            1.0.15|  4.0 and up|\n",
      "|Tattoo Name On My...|ART_AND_DESIGN|   4.2|  44829| 20M|10,000,000+|Free|    0|          Teen|        Art & Design|     April 2, 2018|               3.8|  4.1 and up|\n",
      "|Mandala Coloring ...|ART_AND_DESIGN|   4.6|   4326| 21M|   100,000+|Free|    0|      Everyone|        Art & Design|     June 26, 2018|             1.0.4|  4.4 and up|\n",
      "|3D Color Pixel by...|ART_AND_DESIGN|   4.4|   1518| 37M|   100,000+|Free|    0|      Everyone|        Art & Design|    August 3, 2018|             1.2.3|  2.3 and up|\n",
      "|Learn To Draw Kaw...|ART_AND_DESIGN|   3.2|     55|2.7M|     5,000+|Free|    0|      Everyone|        Art & Design|      June 6, 2018|               NaN|  4.2 and up|\n",
      "|Photo Designer - ...|ART_AND_DESIGN|   4.7|   3632|5.5M|   500,000+|Free|    0|      Everyone|        Art & Design|     July 31, 2018|               3.1|  4.1 and up|\n",
      "|350 Diy Room Deco...|ART_AND_DESIGN|   4.5|     27| 17M|    10,000+|Free|    0|      Everyone|        Art & Design|  November 7, 2017|               1.0|  2.3 and up|\n",
      "|FlipaClip - Carto...|ART_AND_DESIGN|   4.3| 194216| 39M| 5,000,000+|Free|    0|      Everyone|        Art & Design|    August 3, 2018|             2.2.5|4.0.3 and up|\n",
      "|        ibis Paint X|ART_AND_DESIGN|   4.6| 224399| 31M|10,000,000+|Free|    0|      Everyone|        Art & Design|     July 30, 2018|             5.5.4|  4.1 and up|\n",
      "+--------------------+--------------+------+-------+----+-----------+----+-----+--------------+--------------------+------------------+------------------+------------+\n",
      "only showing top 20 rows\n",
      "\n"
     ]
    }
   ],
   "source": [
    "df.show()"
   ]
  },
  {
   "cell_type": "markdown",
   "id": "aa0144b0",
   "metadata": {},
   "source": [
    "### Count the total number of rows"
   ]
  },
  {
   "cell_type": "code",
   "execution_count": 280,
   "id": "1cb02332",
   "metadata": {},
   "outputs": [
    {
     "data": {
      "text/plain": [
       "10841"
      ]
     },
     "execution_count": 280,
     "metadata": {},
     "output_type": "execute_result"
    }
   ],
   "source": [
    "# Returns the total number of rows \n",
    "# your DataFrame has\n",
    "df.count()"
   ]
  },
  {
   "cell_type": "markdown",
   "id": "3ce794d1",
   "metadata": {},
   "source": [
    "### Remove unecessary and irrelevant columns\n",
    "\n",
    "This step ensures that only columns that are relevant and useful for our data analysis are present on our dataframe, thus making our analysis much faster since our dataframe will only load much fewer columns"
   ]
  },
  {
   "cell_type": "code",
   "execution_count": 281,
   "id": "ddbb0797",
   "metadata": {},
   "outputs": [
    {
     "name": "stdout",
     "output_type": "stream",
     "text": [
      "+--------------------+--------------+------+-------+--------------------+\n",
      "|                 App|      Category|Rating|Reviews|              Genres|\n",
      "+--------------------+--------------+------+-------+--------------------+\n",
      "|Photo Editor & Ca...|ART_AND_DESIGN|   4.1|    159|        Art & Design|\n",
      "| Coloring book moana|ART_AND_DESIGN|   3.9|    967|Art & Design;Pret...|\n",
      "|U Launcher Lite –...|ART_AND_DESIGN|   4.7|  87510|        Art & Design|\n",
      "|Sketch - Draw & P...|ART_AND_DESIGN|   4.5| 215644|        Art & Design|\n",
      "|Pixel Draw - Numb...|ART_AND_DESIGN|   4.3|    967|Art & Design;Crea...|\n",
      "|Paper flowers ins...|ART_AND_DESIGN|   4.4|    167|        Art & Design|\n",
      "|Smoke Effect Phot...|ART_AND_DESIGN|   3.8|    178|        Art & Design|\n",
      "|    Infinite Painter|ART_AND_DESIGN|   4.1|  36815|        Art & Design|\n",
      "|Garden Coloring Book|ART_AND_DESIGN|   4.4|  13791|        Art & Design|\n",
      "|Kids Paint Free -...|ART_AND_DESIGN|   4.7|    121|Art & Design;Crea...|\n",
      "|Text on Photo - F...|ART_AND_DESIGN|   4.4|  13880|        Art & Design|\n",
      "|Name Art Photo Ed...|ART_AND_DESIGN|   4.4|   8788|        Art & Design|\n",
      "|Tattoo Name On My...|ART_AND_DESIGN|   4.2|  44829|        Art & Design|\n",
      "|Mandala Coloring ...|ART_AND_DESIGN|   4.6|   4326|        Art & Design|\n",
      "|3D Color Pixel by...|ART_AND_DESIGN|   4.4|   1518|        Art & Design|\n",
      "|Learn To Draw Kaw...|ART_AND_DESIGN|   3.2|     55|        Art & Design|\n",
      "|Photo Designer - ...|ART_AND_DESIGN|   4.7|   3632|        Art & Design|\n",
      "|350 Diy Room Deco...|ART_AND_DESIGN|   4.5|     27|        Art & Design|\n",
      "|FlipaClip - Carto...|ART_AND_DESIGN|   4.3| 194216|        Art & Design|\n",
      "|        ibis Paint X|ART_AND_DESIGN|   4.6| 224399|        Art & Design|\n",
      "+--------------------+--------------+------+-------+--------------------+\n",
      "only showing top 20 rows\n",
      "\n"
     ]
    }
   ],
   "source": [
    "# Drops/remove column(s) from our dataframe\n",
    "# based on the given list of column(s)\n",
    "df = df.drop(\n",
    "    'Size',\n",
    "    'Installs',\n",
    "    'Type',\n",
    "    'Price',\n",
    "    'Content Rating',\n",
    "    'Last Updated',\n",
    "    'Current Ver',\n",
    "    'Android Ver'\n",
    ")\n",
    "\n",
    "df.show()"
   ]
  },
  {
   "cell_type": "markdown",
   "id": "e636a110",
   "metadata": {},
   "source": [
    "### Perform data cleansing"
   ]
  },
  {
   "cell_type": "markdown",
   "id": "95ae60fa",
   "metadata": {},
   "source": [
    "#### Renaming the columns"
   ]
  },
  {
   "cell_type": "code",
   "execution_count": 282,
   "id": "ae20817b",
   "metadata": {},
   "outputs": [
    {
     "data": {
      "text/plain": [
       "['App', 'Category', 'Rating', 'Reviews', 'Genres']"
      ]
     },
     "execution_count": 282,
     "metadata": {},
     "output_type": "execute_result"
    }
   ],
   "source": [
    "# Display column(s)\n",
    "df.columns"
   ]
  },
  {
   "cell_type": "code",
   "execution_count": 283,
   "id": "2f382320",
   "metadata": {},
   "outputs": [],
   "source": [
    "from pyspark.sql.types import StringType\n",
    "\n",
    "to_lower = spark.udf.register('to_lower', lambda x: x.lower(), StringType())"
   ]
  },
  {
   "cell_type": "code",
   "execution_count": 284,
   "id": "bf54a20c",
   "metadata": {},
   "outputs": [],
   "source": [
    "col_renamed_df = df.withColumnRenamed('App', 'app') \\\n",
    "    .withColumnRenamed('Category', 'category') \\\n",
    "    .withColumnRenamed('Rating', 'rating') \\\n",
    "    .withColumnRenamed('Reviews', 'reviews') \\\n",
    "    .withColumnRenamed('Genres', 'genres')"
   ]
  },
  {
   "cell_type": "code",
   "execution_count": 285,
   "id": "d0c3196d",
   "metadata": {},
   "outputs": [
    {
     "data": {
      "text/plain": [
       "['app', 'category', 'rating', 'reviews', 'genres']"
      ]
     },
     "execution_count": 285,
     "metadata": {},
     "output_type": "execute_result"
    }
   ],
   "source": [
    "col_renamed_df.columns"
   ]
  },
  {
   "cell_type": "markdown",
   "id": "934e9fdb",
   "metadata": {},
   "source": [
    "#### Replace rating Nan/NULL with appropriate values"
   ]
  },
  {
   "cell_type": "code",
   "execution_count": 301,
   "id": "9323ae8c",
   "metadata": {},
   "outputs": [
    {
     "name": "stdout",
     "output_type": "stream",
     "text": [
      "+---------------------+-------------------+------+-------+--------------------+\n",
      "|                  app|           category|rating|reviews|              genres|\n",
      "+---------------------+-------------------+------+-------+--------------------+\n",
      "| Mcqueen Coloring ...|     ART_AND_DESIGN|   NaN|     61|Art & Design;Acti...|\n",
      "| Wrinkles and reju...|             BEAUTY|   NaN|    182|              Beauty|\n",
      "| Manicure - nail d...|             BEAUTY|   NaN|    119|              Beauty|\n",
      "| Skin Care and Nat...|             BEAUTY|   NaN|    654|              Beauty|\n",
      "| Secrets of beauty...|             BEAUTY|   NaN|     77|              Beauty|\n",
      "| Recipes and tips ...|             BEAUTY|   NaN|     35|              Beauty|\n",
      "| Lady adviser (bea...|             BEAUTY|   NaN|     30|              Beauty|\n",
      "| Anonymous caller ...|BOOKS_AND_REFERENCE|   NaN|    161|   Books & Reference|\n",
      "| SH-02J Owner's Ma...|BOOKS_AND_REFERENCE|   NaN|      2|   Books & Reference|\n",
      "| URBANO V 02 instr...|BOOKS_AND_REFERENCE|   NaN|    114|   Books & Reference|\n",
      "|       Y! Mobile menu|           BUSINESS|   NaN|      9|            Business|\n",
      "|【Ranobbe complete...|             COMICS|   NaN|   1330|              Comics|\n",
      "|    Truth or Dare Pro|             DATING|   NaN|      0|              Dating|\n",
      "| Private Dating, H...|             DATING|   NaN|      0|              Dating|\n",
      "| Ad Blocker for SayHi|             DATING|   NaN|      4|              Dating|\n",
      "|    Random Video Chat|             DATING|   NaN|      3|              Dating|\n",
      "| Random Video Chat...|             DATING|   NaN|      3|              Dating|\n",
      "| Meet With Strange...|             DATING|   NaN|      2|              Dating|\n",
      "| Ost. Zombies Cast...|             DATING|   NaN|      1|              Dating|\n",
      "|   Dating White Girls|             DATING|   NaN|      0|              Dating|\n",
      "+---------------------+-------------------+------+-------+--------------------+\n",
      "only showing top 20 rows\n",
      "\n"
     ]
    }
   ],
   "source": [
    "# Show all the rows that contains a NaN rating\n",
    "col_renamed_df.filter('rating = \"NaN\"').show()"
   ]
  },
  {
   "cell_type": "code",
   "execution_count": 319,
   "id": "84d8de49",
   "metadata": {},
   "outputs": [],
   "source": [
    "nan_filled_df = col_renamed_df.replace(['NaN'], ['0.0'], 'rating')"
   ]
  },
  {
   "cell_type": "code",
   "execution_count": 320,
   "id": "44e4afcc",
   "metadata": {},
   "outputs": [
    {
     "name": "stdout",
     "output_type": "stream",
     "text": [
      "+--------------------+--------------+------+-------+--------------------+\n",
      "|                 app|      category|rating|reviews|              genres|\n",
      "+--------------------+--------------+------+-------+--------------------+\n",
      "|Mcqueen Coloring ...|ART_AND_DESIGN|   0.0|     61|Art & Design;Acti...|\n",
      "|Mcqueen Coloring ...|        FAMILY|   0.0|     65|Art & Design;Acti...|\n",
      "+--------------------+--------------+------+-------+--------------------+\n",
      "\n"
     ]
    }
   ],
   "source": [
    "# Checks for NaN valued rating in our dataframe\n",
    "nan_filled_df.filter('app like \"Mcqueen Coloring%\"').show()"
   ]
  },
  {
   "cell_type": "code",
   "execution_count": 321,
   "id": "f49492d4",
   "metadata": {},
   "outputs": [
    {
     "name": "stdout",
     "output_type": "stream",
     "text": [
      "+---------------------+-------------------+------+-------+--------------------+\n",
      "|                  App|           Category|Rating|Reviews|              Genres|\n",
      "+---------------------+-------------------+------+-------+--------------------+\n",
      "| Mcqueen Coloring ...|     ART_AND_DESIGN|   NaN|     61|Art & Design;Acti...|\n",
      "| Wrinkles and reju...|             BEAUTY|   NaN|    182|              Beauty|\n",
      "| Manicure - nail d...|             BEAUTY|   NaN|    119|              Beauty|\n",
      "| Skin Care and Nat...|             BEAUTY|   NaN|    654|              Beauty|\n",
      "| Secrets of beauty...|             BEAUTY|   NaN|     77|              Beauty|\n",
      "| Recipes and tips ...|             BEAUTY|   NaN|     35|              Beauty|\n",
      "| Lady adviser (bea...|             BEAUTY|   NaN|     30|              Beauty|\n",
      "| Anonymous caller ...|BOOKS_AND_REFERENCE|   NaN|    161|   Books & Reference|\n",
      "| SH-02J Owner's Ma...|BOOKS_AND_REFERENCE|   NaN|      2|   Books & Reference|\n",
      "| URBANO V 02 instr...|BOOKS_AND_REFERENCE|   NaN|    114|   Books & Reference|\n",
      "|       Y! Mobile menu|           BUSINESS|   NaN|      9|            Business|\n",
      "|【Ranobbe complete...|             COMICS|   NaN|   1330|              Comics|\n",
      "|    Truth or Dare Pro|             DATING|   NaN|      0|              Dating|\n",
      "| Private Dating, H...|             DATING|   NaN|      0|              Dating|\n",
      "| Ad Blocker for SayHi|             DATING|   NaN|      4|              Dating|\n",
      "|    Random Video Chat|             DATING|   NaN|      3|              Dating|\n",
      "| Random Video Chat...|             DATING|   NaN|      3|              Dating|\n",
      "| Meet With Strange...|             DATING|   NaN|      2|              Dating|\n",
      "| Ost. Zombies Cast...|             DATING|   NaN|      1|              Dating|\n",
      "|   Dating White Girls|             DATING|   NaN|      0|              Dating|\n",
      "+---------------------+-------------------+------+-------+--------------------+\n",
      "only showing top 20 rows\n",
      "\n"
     ]
    }
   ],
   "source": [
    "df.filter('rating = \"NaN\"').show()"
   ]
  },
  {
   "cell_type": "code",
   "execution_count": 322,
   "id": "853c6634",
   "metadata": {},
   "outputs": [
    {
     "name": "stdout",
     "output_type": "stream",
     "text": [
      "+--------------------+--------------+------+-------+--------------------+\n",
      "|                 app|      category|rating|reviews|              genres|\n",
      "+--------------------+--------------+------+-------+--------------------+\n",
      "|Photo Editor & Ca...|ART_AND_DESIGN|   4.1|    159|        Art & Design|\n",
      "| Coloring book moana|ART_AND_DESIGN|   3.9|    967|Art & Design;Pret...|\n",
      "|U Launcher Lite –...|ART_AND_DESIGN|   4.7|  87510|        Art & Design|\n",
      "|Sketch - Draw & P...|ART_AND_DESIGN|   4.5| 215644|        Art & Design|\n",
      "|Pixel Draw - Numb...|ART_AND_DESIGN|   4.3|    967|Art & Design;Crea...|\n",
      "|Paper flowers ins...|ART_AND_DESIGN|   4.4|    167|        Art & Design|\n",
      "|Smoke Effect Phot...|ART_AND_DESIGN|   3.8|    178|        Art & Design|\n",
      "|    Infinite Painter|ART_AND_DESIGN|   4.1|  36815|        Art & Design|\n",
      "|Garden Coloring Book|ART_AND_DESIGN|   4.4|  13791|        Art & Design|\n",
      "|Kids Paint Free -...|ART_AND_DESIGN|   4.7|    121|Art & Design;Crea...|\n",
      "|Text on Photo - F...|ART_AND_DESIGN|   4.4|  13880|        Art & Design|\n",
      "|Name Art Photo Ed...|ART_AND_DESIGN|   4.4|   8788|        Art & Design|\n",
      "|Tattoo Name On My...|ART_AND_DESIGN|   4.2|  44829|        Art & Design|\n",
      "|Mandala Coloring ...|ART_AND_DESIGN|   4.6|   4326|        Art & Design|\n",
      "|3D Color Pixel by...|ART_AND_DESIGN|   4.4|   1518|        Art & Design|\n",
      "|Learn To Draw Kaw...|ART_AND_DESIGN|   3.2|     55|        Art & Design|\n",
      "|Photo Designer - ...|ART_AND_DESIGN|   4.7|   3632|        Art & Design|\n",
      "|350 Diy Room Deco...|ART_AND_DESIGN|   4.5|     27|        Art & Design|\n",
      "|FlipaClip - Carto...|ART_AND_DESIGN|   4.3| 194216|        Art & Design|\n",
      "|        ibis Paint X|ART_AND_DESIGN|   4.6| 224399|        Art & Design|\n",
      "+--------------------+--------------+------+-------+--------------------+\n",
      "only showing top 20 rows\n",
      "\n"
     ]
    }
   ],
   "source": [
    "nan_filled_df.show()"
   ]
  },
  {
   "cell_type": "markdown",
   "id": "6f081ee4",
   "metadata": {},
   "source": [
    "#### Enforcing appropriate data types"
   ]
  },
  {
   "cell_type": "code",
   "execution_count": 323,
   "id": "189972a7",
   "metadata": {},
   "outputs": [
    {
     "name": "stdout",
     "output_type": "stream",
     "text": [
      "root\n",
      " |-- app: string (nullable = true)\n",
      " |-- category: string (nullable = true)\n",
      " |-- rating: string (nullable = true)\n",
      " |-- reviews: string (nullable = true)\n",
      " |-- genres: string (nullable = true)\n",
      "\n"
     ]
    }
   ],
   "source": [
    "nan_filled_df.printSchema()"
   ]
  },
  {
   "cell_type": "code",
   "execution_count": 330,
   "id": "f7ee1c85",
   "metadata": {},
   "outputs": [],
   "source": [
    "from pyspark.sql.types import StringType, DecimalType, IntegerType\n",
    "import pyspark.sql.functions as func\n",
    "\n",
    "type_casted_df = nan_filled_df.select(func.col('app').cast(StringType()), \n",
    "                         func.col('category').cast(StringType()),\n",
    "                         func.col('rating').cast(DecimalType(10, 2)),\n",
    "                         func.col('reviews').cast(IntegerType()),\n",
    "                         func.col('genres').cast(StringType()))"
   ]
  },
  {
   "cell_type": "code",
   "execution_count": 331,
   "id": "1ccd5651",
   "metadata": {},
   "outputs": [
    {
     "name": "stdout",
     "output_type": "stream",
     "text": [
      "root\n",
      " |-- app: string (nullable = true)\n",
      " |-- category: string (nullable = true)\n",
      " |-- rating: decimal(10,2) (nullable = true)\n",
      " |-- reviews: integer (nullable = true)\n",
      " |-- genres: string (nullable = true)\n",
      "\n"
     ]
    }
   ],
   "source": [
    "type_casted_df.printSchema()"
   ]
  },
  {
   "cell_type": "code",
   "execution_count": 332,
   "id": "96098724",
   "metadata": {},
   "outputs": [
    {
     "name": "stdout",
     "output_type": "stream",
     "text": [
      "+--------------------+--------------+------+-------+--------------------+\n",
      "|                 app|      category|rating|reviews|              genres|\n",
      "+--------------------+--------------+------+-------+--------------------+\n",
      "|Mcqueen Coloring ...|ART_AND_DESIGN|  0.00|     61|Art & Design;Acti...|\n",
      "|Mcqueen Coloring ...|        FAMILY|  0.00|     65|Art & Design;Acti...|\n",
      "+--------------------+--------------+------+-------+--------------------+\n",
      "\n"
     ]
    }
   ],
   "source": [
    "type_casted_df.filter('app like \"Mcqueen Coloring%\"').show()"
   ]
  },
  {
   "cell_type": "code",
   "execution_count": 357,
   "id": "6d30f155",
   "metadata": {},
   "outputs": [
    {
     "name": "stdout",
     "output_type": "stream",
     "text": [
      "+-------------------------------------------------+-----------+\n",
      "|app                                              |sum(rating)|\n",
      "+-------------------------------------------------+-----------+\n",
      "|ROBLOX                                           |40.50      |\n",
      "|CBS Sports App - Scores, News, Stats & Watch Live|34.40      |\n",
      "|Duolingo: Learn Languages Free                   |32.90      |\n",
      "|8 Ball Pool                                      |31.50      |\n",
      "|Candy Crush Saga                                 |30.80      |\n",
      "|ESPN                                             |29.40      |\n",
      "|Bowmasters                                       |28.20      |\n",
      "|Zombie Catchers                                  |28.20      |\n",
      "|Sniper 3D Gun Shooter: Free Shooting Games - FPS |27.60      |\n",
      "|Subway Surfers                                   |27.00      |\n",
      "+-------------------------------------------------+-----------+\n",
      "\n"
     ]
    }
   ],
   "source": [
    "type_casted_df.groupBy('app') \\\n",
    "    .sum('rating') \\\n",
    "    .sort(func.desc('sum(rating)')) \\\n",
    "    .limit(10) \\\n",
    "    .show(truncate=False)"
   ]
  },
  {
   "cell_type": "code",
   "execution_count": null,
   "id": "8f06a6e7",
   "metadata": {},
   "outputs": [],
   "source": []
  }
 ],
 "metadata": {
  "kernelspec": {
   "display_name": "Python 3 (ipykernel)",
   "language": "python",
   "name": "python3"
  },
  "language_info": {
   "codemirror_mode": {
    "name": "ipython",
    "version": 3
   },
   "file_extension": ".py",
   "mimetype": "text/x-python",
   "name": "python",
   "nbconvert_exporter": "python",
   "pygments_lexer": "ipython3",
   "version": "3.10.4"
  }
 },
 "nbformat": 4,
 "nbformat_minor": 5
}
